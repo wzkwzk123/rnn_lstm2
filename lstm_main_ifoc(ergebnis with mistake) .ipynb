{
  "nbformat": 4,
  "nbformat_minor": 0,
  "metadata": {
    "colab": {
      "name": "lstm_main_ifoc.ipynb",
      "version": "0.3.2",
      "provenance": [],
      "collapsed_sections": []
    },
    "language_info": {
      "codemirror_mode": {
        "name": "ipython",
        "version": 3
      },
      "file_extension": ".py",
      "mimetype": "text/x-python",
      "name": "python",
      "nbconvert_exporter": "python",
      "pygments_lexer": "ipython3",
      "version": "3.6.8"
    },
    "kernelspec": {
      "display_name": "Python 3",
      "language": "python",
      "name": "python3"
    },
    "accelerator": "GPU"
  },
  "cells": [
    {
      "cell_type": "code",
      "metadata": {
        "colab_type": "code",
        "id": "9gigFV1NFYNM",
        "colab": {}
      },
      "source": [
        "!apt-get install -y -qq software-properties-common python-software-properties module-init-tools\n",
        "!add-apt-repository -y ppa:alessandro-strada/ppa 2>&1 > /dev/null\n",
        "!apt-get update -qq 2>&1 > /dev/null\n",
        "!apt-get -y install -qq google-drive-ocamlfuse fuse\n",
        "from google.colab import auth\n",
        "auth.authenticate_user()\n",
        "from oauth2client.client import GoogleCredentials\n",
        "creds = GoogleCredentials.get_application_default()\n",
        "import getpass\n",
        "!google-drive-ocamlfuse -headless -id={creds.client_id} -secret={creds.client_secret} < /dev/null 2>&1 | grep URL\n",
        "vcode = getpass.getpass()\n",
        "!echo {vcode} | google-drive-ocamlfuse -headless -id={creds.client_id} -secret={creds.client_secret}"
      ],
      "execution_count": 0,
      "outputs": []
    },
    {
      "cell_type": "code",
      "metadata": {
        "colab_type": "code",
        "id": "dCtwSIqrFYNR",
        "colab": {}
      },
      "source": [
        "!mkdir -p drive\n",
        "!google-drive-ocamlfuse drive"
      ],
      "execution_count": 0,
      "outputs": []
    },
    {
      "cell_type": "code",
      "metadata": {
        "colab_type": "code",
        "id": "OUKfBqtM1gZs",
        "colab": {}
      },
      "source": [
        "import os\n",
        "os.chdir(\"drive\") "
      ],
      "execution_count": 0,
      "outputs": []
    },
    {
      "cell_type": "code",
      "metadata": {
        "colab_type": "code",
        "id": "fsy--2npFYNX",
        "colab": {}
      },
      "source": [
        "import torch\n",
        "import torch.nn as nn\n",
        "import numpy as np\n",
        "import torch.nn.functional as F\n",
        "\n",
        "from torch.nn.utils import clip_grad_norm_\n",
        "\n",
        "from corpus import Corpus\n",
        "from lstm import Lstm\n",
        "#from lstm_matrix import Lstm\n"
      ],
      "execution_count": 0,
      "outputs": []
    },
    {
      "cell_type": "code",
      "metadata": {
        "colab_type": "code",
        "id": "M0zXfQ7eFYNf",
        "outputId": "77079b6b-3c7c-4efb-a35f-d9c7aaafc7a3",
        "colab": {
          "base_uri": "https://localhost:8080/",
          "height": 33
        }
      },
      "source": [
        "# use gpu if it is possible\n",
        "device = torch.device('cuda' if torch.cuda.is_available() else 'cpu')\n",
        "print(device)\n"
      ],
      "execution_count": 2,
      "outputs": [
        {
          "output_type": "stream",
          "text": [
            "cuda\n"
          ],
          "name": "stdout"
        }
      ]
    },
    {
      "cell_type": "code",
      "metadata": {
        "colab_type": "code",
        "id": "XHZC6S2sFYNi",
        "colab": {}
      },
      "source": [
        "# Hyperparameter\n",
        "\n",
        "embed_size = 128     # Vector length to represent a word\n",
        "hidden_size = 1024   # hidden size of LSTM\n",
        "num_layers = 1      # only one layer\n",
        "num_epochs1 = 2      # num of iterations with lr = lr\n",
        "num_epochs2 = 4   # num of iterations with lr = lr*0.1 # 可以改成3\n",
        "num_epochs3 = 3     # num of iterations with lr = lr*0.05\n",
        "num_epochs4= 2     # num of iterations with lr = lr*0.02\n",
        "\n",
        "num_epochs = num_epochs1 +num_epochs2 +num_epochs3 + num_epochs4\n",
        "batch_size = 20     # Number of sentences in one batch (if too small: biger error due to randomness)\n",
        "seq_length = 25     # Number of  words in one sentence\n",
        "learning_rate = 0.01 #  "
      ],
      "execution_count": 0,
      "outputs": []
    },
    {
      "cell_type": "code",
      "metadata": {
        "colab_type": "code",
        "id": "JA21qpFDFYNp",
        "outputId": "3e1622a0-67fb-4863-8882-565d369bb1c9",
        "colab": {
          "base_uri": "https://localhost:8080/",
          "height": 33
        }
      },
      "source": [
        "#Load data \n",
        "corpus = Corpus()\n",
        "ids = corpus.get_data('train.csv', batch_size,seq_length)\n",
        "vocab_size = len(corpus.dictionary) \n",
        "num_batches = ids.size(1) // seq_length \n",
        "print(vocab_size)"
      ],
      "execution_count": 4,
      "outputs": [
        {
          "output_type": "stream",
          "text": [
            "119598\n"
          ],
          "name": "stdout"
        }
      ]
    },
    {
      "cell_type": "code",
      "metadata": {
        "colab_type": "code",
        "id": "K6aL_BmoFYN5",
        "colab": {}
      },
      "source": [
        "train_model = Lstm(batch_size,vocab_size, embed_size, hidden_size, num_layers).to(device)\n",
        "\n",
        "# choose loss function: \n",
        "criterion = nn.CrossEntropyLoss()  \n",
        "#choose optimizer function \n",
        "optimizer = torch.optim.Adam(train_model.parameters(), lr=learning_rate)\n",
        "optimizer2 = torch.optim.Adam(train_model.parameters(), lr=learning_rate * 0.1)\n",
        "optimizer3 = torch.optim.Adam(train_model.parameters(), lr=learning_rate * 0.05)\n",
        "optimizer4 = torch.optim.Adam(train_model.parameters(), lr=learning_rate * 0.02)\n",
        "\n"
      ],
      "execution_count": 0,
      "outputs": []
    },
    {
      "cell_type": "code",
      "metadata": {
        "colab_type": "code",
        "id": "MBveBtWcFYN9",
        "outputId": "ceebfdcc-8085-401e-a69a-89029b3023c1",
        "colab": {
          "base_uri": "https://localhost:8080/",
          "height": 2593
        }
      },
      "source": [
        "# Backpropagation process \"truncated\" (do not copy gradient)\n",
        "def detach(states):\n",
        "    return [state.detach() for state in states] \n",
        "\n",
        "# training...\n",
        " \n",
        "for epoch in range(num_epochs):\n",
        "    h_pre = torch.zeros(batch_size,hidden_size).to(device)\n",
        "    c_pre = torch.zeros(batch_size,hidden_size).to(device)     \n",
        "    loss = 0.0\n",
        "    \n",
        "    if (epoch ==num_epochs1+num_epochs2 +num_epochs3):\n",
        "      torch.save(train_model.state_dict(), 'lstm_epoc_3.ckpt')\n",
        "      optimizer = optimizer4\n",
        "      \n",
        "    if (epoch ==num_epochs1+num_epochs2):\n",
        "      torch.save(train_model.state_dict(), 'lstm_epoc_2.ckpt')\n",
        "      optimizer = optimizer3\n",
        "        \n",
        "    elif (epoch ==num_epochs1):\n",
        "      torch.save(train_model.state_dict(), 'lstm_epoc_1.ckpt')\n",
        "      optimizer = optimizer2\n",
        "        \n",
        "    for i in range(0, ids.size(1)-1 , seq_length):##  总的列数减1，间隔一句话的长度,0,25,50....\n",
        "        loss = 0.0\n",
        "        inputs = ids[:,i:i+seq_length-1].to(device)  #  [batch_size,seq_length-1]:[20,24]\n",
        "        inputs = inputs.t() # [24,20]\n",
        "        targets = ids[:,(i+1):i+seq_length].to(device) # Output is delayed by one word after the input\n",
        "        outputs,(h_t,c_t) = train_model(inputs,h_pre,c_pre)\n",
        "        loss = criterion(outputs,targets.reshape(-1))  \n",
        "        \n",
        "        # the 3 key steps\n",
        "        train_model.zero_grad()\n",
        "        loss.backward( )\n",
        "        clip_grad_norm_(train_model.parameters(),0.5)  # max norm of the gradients to avoid gradient explode\n",
        "        optimizer.step()\n",
        "        \n",
        "        step = (i+1) // seq_length\n",
        "        if step % 200 == 0:\n",
        "            print ('the current epoch [{}/{}], step_num in this epoch[{}/{}], Loss: {:.4f},Perplexity: {:5.2f}'\n",
        "                   .format(epoch+1, num_epochs, step, num_batches, loss.item(), np.exp(loss.item())))\n",
        "            \n",
        "      \n",
        "      \n"
      ],
      "execution_count": 0,
      "outputs": [
        {
          "output_type": "stream",
          "text": [
            "the current epoch [1/11], step_num in this epoch[0/2644], Loss: 11.6927,Perplexity: 119695.36\n",
            "the current epoch [1/11], step_num in this epoch[200/2644], Loss: 8.0428,Perplexity: 3111.44\n",
            "the current epoch [1/11], step_num in this epoch[400/2644], Loss: 7.8349,Perplexity: 2527.31\n",
            "the current epoch [1/11], step_num in this epoch[600/2644], Loss: 8.1832,Perplexity: 3580.19\n",
            "the current epoch [1/11], step_num in this epoch[800/2644], Loss: 8.2164,Perplexity: 3701.20\n",
            "the current epoch [1/11], step_num in this epoch[1000/2644], Loss: 8.1074,Perplexity: 3318.90\n",
            "the current epoch [1/11], step_num in this epoch[1200/2644], Loss: 7.6432,Perplexity: 2086.47\n",
            "the current epoch [1/11], step_num in this epoch[1400/2644], Loss: 7.5345,Perplexity: 1871.44\n",
            "the current epoch [1/11], step_num in this epoch[1600/2644], Loss: 7.8660,Perplexity: 2607.15\n",
            "the current epoch [1/11], step_num in this epoch[1800/2644], Loss: 8.1952,Perplexity: 3623.64\n",
            "the current epoch [1/11], step_num in this epoch[2000/2644], Loss: 8.1162,Perplexity: 3348.30\n",
            "the current epoch [1/11], step_num in this epoch[2200/2644], Loss: 7.8196,Perplexity: 2488.82\n",
            "the current epoch [1/11], step_num in this epoch[2400/2644], Loss: 7.6709,Perplexity: 2145.08\n",
            "the current epoch [1/11], step_num in this epoch[2600/2644], Loss: 8.0454,Perplexity: 3119.34\n",
            "the current epoch [2/11], step_num in this epoch[0/2644], Loss: 7.8510,Perplexity: 2568.43\n",
            "the current epoch [2/11], step_num in this epoch[200/2644], Loss: 7.7512,Perplexity: 2324.30\n",
            "the current epoch [2/11], step_num in this epoch[400/2644], Loss: 7.4898,Perplexity: 1789.71\n",
            "the current epoch [2/11], step_num in this epoch[600/2644], Loss: 8.0365,Perplexity: 3091.84\n",
            "the current epoch [2/11], step_num in this epoch[800/2644], Loss: 8.0500,Perplexity: 3133.91\n",
            "the current epoch [2/11], step_num in this epoch[1000/2644], Loss: 7.9427,Perplexity: 2814.94\n",
            "the current epoch [2/11], step_num in this epoch[1200/2644], Loss: 7.4756,Perplexity: 1764.38\n",
            "the current epoch [2/11], step_num in this epoch[1400/2644], Loss: 7.4514,Perplexity: 1722.23\n",
            "the current epoch [2/11], step_num in this epoch[1600/2644], Loss: 7.7889,Perplexity: 2413.59\n",
            "the current epoch [2/11], step_num in this epoch[1800/2644], Loss: 7.8837,Perplexity: 2653.74\n",
            "the current epoch [2/11], step_num in this epoch[2000/2644], Loss: 8.0301,Perplexity: 3072.00\n",
            "the current epoch [2/11], step_num in this epoch[2200/2644], Loss: 7.7630,Perplexity: 2351.95\n",
            "the current epoch [2/11], step_num in this epoch[2400/2644], Loss: 7.6563,Perplexity: 2113.99\n",
            "the current epoch [2/11], step_num in this epoch[2600/2644], Loss: 7.8556,Perplexity: 2580.06\n",
            "the current epoch [3/11], step_num in this epoch[0/2644], Loss: 7.9516,Perplexity: 2840.22\n",
            "the current epoch [3/11], step_num in this epoch[200/2644], Loss: 7.8884,Perplexity: 2666.13\n",
            "the current epoch [3/11], step_num in this epoch[400/2644], Loss: 7.7503,Perplexity: 2322.16\n",
            "the current epoch [3/11], step_num in this epoch[600/2644], Loss: 8.1554,Perplexity: 3482.30\n",
            "the current epoch [3/11], step_num in this epoch[800/2644], Loss: 8.2529,Perplexity: 3838.89\n",
            "the current epoch [3/11], step_num in this epoch[1000/2644], Loss: 8.1039,Perplexity: 3307.43\n",
            "the current epoch [3/11], step_num in this epoch[1200/2644], Loss: 7.5400,Perplexity: 1881.89\n",
            "the current epoch [3/11], step_num in this epoch[1400/2644], Loss: 7.3793,Perplexity: 1602.42\n",
            "the current epoch [3/11], step_num in this epoch[1600/2644], Loss: 7.6006,Perplexity: 1999.30\n",
            "the current epoch [3/11], step_num in this epoch[1800/2644], Loss: 7.7988,Perplexity: 2437.62\n",
            "the current epoch [3/11], step_num in this epoch[2000/2644], Loss: 7.8182,Perplexity: 2485.43\n",
            "the current epoch [3/11], step_num in this epoch[2200/2644], Loss: 7.5562,Perplexity: 1912.59\n",
            "the current epoch [3/11], step_num in this epoch[2400/2644], Loss: 7.2056,Perplexity: 1346.92\n",
            "the current epoch [3/11], step_num in this epoch[2600/2644], Loss: 7.2131,Perplexity: 1357.14\n",
            "the current epoch [4/11], step_num in this epoch[0/2644], Loss: 7.3822,Perplexity: 1607.05\n",
            "the current epoch [4/11], step_num in this epoch[200/2644], Loss: 7.3808,Perplexity: 1604.92\n",
            "the current epoch [4/11], step_num in this epoch[400/2644], Loss: 7.2365,Perplexity: 1389.29\n",
            "the current epoch [4/11], step_num in this epoch[600/2644], Loss: 7.3828,Perplexity: 1608.15\n",
            "the current epoch [4/11], step_num in this epoch[800/2644], Loss: 7.4073,Perplexity: 1648.03\n",
            "the current epoch [4/11], step_num in this epoch[1000/2644], Loss: 7.1710,Perplexity: 1301.09\n",
            "the current epoch [4/11], step_num in this epoch[1200/2644], Loss: 6.8507,Perplexity: 944.56\n",
            "the current epoch [4/11], step_num in this epoch[1400/2644], Loss: 6.6932,Perplexity: 806.89\n",
            "the current epoch [4/11], step_num in this epoch[1600/2644], Loss: 6.7591,Perplexity: 861.86\n",
            "the current epoch [4/11], step_num in this epoch[1800/2644], Loss: 6.5101,Perplexity: 671.86\n",
            "the current epoch [4/11], step_num in this epoch[2000/2644], Loss: 6.7363,Perplexity: 842.45\n",
            "the current epoch [4/11], step_num in this epoch[2200/2644], Loss: 6.6698,Perplexity: 788.21\n",
            "the current epoch [4/11], step_num in this epoch[2400/2644], Loss: 6.3992,Perplexity: 601.35\n",
            "the current epoch [4/11], step_num in this epoch[2600/2644], Loss: 6.3053,Perplexity: 547.44\n",
            "the current epoch [5/11], step_num in this epoch[0/2644], Loss: 6.6244,Perplexity: 753.21\n",
            "the current epoch [5/11], step_num in this epoch[200/2644], Loss: 6.7587,Perplexity: 861.52\n",
            "the current epoch [5/11], step_num in this epoch[400/2644], Loss: 6.5125,Perplexity: 673.48\n",
            "the current epoch [5/11], step_num in this epoch[600/2644], Loss: 6.5917,Perplexity: 729.05\n",
            "the current epoch [5/11], step_num in this epoch[800/2644], Loss: 6.5887,Perplexity: 726.80\n",
            "the current epoch [5/11], step_num in this epoch[1000/2644], Loss: 6.3889,Perplexity: 595.22\n",
            "the current epoch [5/11], step_num in this epoch[1200/2644], Loss: 6.2833,Perplexity: 535.58\n",
            "the current epoch [5/11], step_num in this epoch[1400/2644], Loss: 6.2556,Perplexity: 520.90\n",
            "the current epoch [5/11], step_num in this epoch[1600/2644], Loss: 6.2317,Perplexity: 508.60\n",
            "the current epoch [5/11], step_num in this epoch[1800/2644], Loss: 5.9059,Perplexity: 367.20\n",
            "the current epoch [5/11], step_num in this epoch[2000/2644], Loss: 6.1504,Perplexity: 468.91\n",
            "the current epoch [5/11], step_num in this epoch[2200/2644], Loss: 6.1952,Perplexity: 490.37\n",
            "the current epoch [5/11], step_num in this epoch[2400/2644], Loss: 5.9242,Perplexity: 373.96\n",
            "the current epoch [5/11], step_num in this epoch[2600/2644], Loss: 5.8524,Perplexity: 348.05\n",
            "the current epoch [6/11], step_num in this epoch[0/2644], Loss: 6.1469,Perplexity: 467.28\n",
            "the current epoch [6/11], step_num in this epoch[200/2644], Loss: 6.3661,Perplexity: 581.79\n",
            "the current epoch [6/11], step_num in this epoch[400/2644], Loss: 6.1213,Perplexity: 455.48\n",
            "the current epoch [6/11], step_num in this epoch[600/2644], Loss: 6.1565,Perplexity: 471.79\n",
            "the current epoch [6/11], step_num in this epoch[800/2644], Loss: 6.1636,Perplexity: 475.13\n",
            "the current epoch [6/11], step_num in this epoch[1000/2644], Loss: 5.9674,Perplexity: 390.47\n",
            "the current epoch [6/11], step_num in this epoch[1200/2644], Loss: 5.9507,Perplexity: 384.02\n",
            "the current epoch [6/11], step_num in this epoch[1400/2644], Loss: 5.9667,Perplexity: 390.23\n",
            "the current epoch [6/11], step_num in this epoch[1600/2644], Loss: 5.9754,Perplexity: 393.64\n",
            "the current epoch [6/11], step_num in this epoch[1800/2644], Loss: 5.5840,Perplexity: 266.13\n",
            "the current epoch [6/11], step_num in this epoch[2000/2644], Loss: 5.8766,Perplexity: 356.60\n",
            "the current epoch [6/11], step_num in this epoch[2200/2644], Loss: 5.9451,Perplexity: 381.87\n",
            "the current epoch [6/11], step_num in this epoch[2400/2644], Loss: 5.6809,Perplexity: 293.21\n",
            "the current epoch [6/11], step_num in this epoch[2600/2644], Loss: 5.6117,Perplexity: 273.62\n",
            "the current epoch [7/11], step_num in this epoch[0/2644], Loss: 5.8811,Perplexity: 358.19\n",
            "the current epoch [7/11], step_num in this epoch[200/2644], Loss: 6.2649,Perplexity: 525.80\n",
            "the current epoch [7/11], step_num in this epoch[400/2644], Loss: 6.0760,Perplexity: 435.31\n",
            "the current epoch [7/11], step_num in this epoch[600/2644], Loss: 6.1584,Perplexity: 472.69\n",
            "the current epoch [7/11], step_num in this epoch[800/2644], Loss: 6.2106,Perplexity: 498.00\n",
            "the current epoch [7/11], step_num in this epoch[1000/2644], Loss: 5.9903,Perplexity: 399.53\n",
            "the current epoch [7/11], step_num in this epoch[1200/2644], Loss: 5.9932,Perplexity: 400.71\n",
            "the current epoch [7/11], step_num in this epoch[1400/2644], Loss: 6.0103,Perplexity: 407.60\n",
            "the current epoch [7/11], step_num in this epoch[1600/2644], Loss: 6.0504,Perplexity: 424.29\n",
            "the current epoch [7/11], step_num in this epoch[1800/2644], Loss: 5.8045,Perplexity: 331.80\n",
            "the current epoch [7/11], step_num in this epoch[2000/2644], Loss: 5.9774,Perplexity: 394.41\n",
            "the current epoch [7/11], step_num in this epoch[2200/2644], Loss: 6.0423,Perplexity: 420.86\n",
            "the current epoch [7/11], step_num in this epoch[2400/2644], Loss: 5.7563,Perplexity: 316.17\n",
            "the current epoch [7/11], step_num in this epoch[2600/2644], Loss: 5.6375,Perplexity: 280.75\n",
            "the current epoch [8/11], step_num in this epoch[0/2644], Loss: 5.4525,Perplexity: 233.34\n",
            "the current epoch [8/11], step_num in this epoch[200/2644], Loss: 5.9746,Perplexity: 393.32\n",
            "the current epoch [8/11], step_num in this epoch[400/2644], Loss: 5.8470,Perplexity: 346.19\n",
            "the current epoch [8/11], step_num in this epoch[600/2644], Loss: 5.8736,Perplexity: 355.53\n",
            "the current epoch [8/11], step_num in this epoch[800/2644], Loss: 5.8717,Perplexity: 354.84\n",
            "the current epoch [8/11], step_num in this epoch[1000/2644], Loss: 5.7009,Perplexity: 299.15\n",
            "the current epoch [8/11], step_num in this epoch[1200/2644], Loss: 5.7762,Perplexity: 322.54\n",
            "the current epoch [8/11], step_num in this epoch[1400/2644], Loss: 5.7838,Perplexity: 324.98\n",
            "the current epoch [8/11], step_num in this epoch[1600/2644], Loss: 5.8474,Perplexity: 346.35\n",
            "the current epoch [8/11], step_num in this epoch[1800/2644], Loss: 5.4874,Perplexity: 241.63\n",
            "the current epoch [8/11], step_num in this epoch[2000/2644], Loss: 5.7648,Perplexity: 318.87\n",
            "the current epoch [8/11], step_num in this epoch[2200/2644], Loss: 5.8315,Perplexity: 340.87\n",
            "the current epoch [8/11], step_num in this epoch[2400/2644], Loss: 5.5975,Perplexity: 269.76\n",
            "the current epoch [8/11], step_num in this epoch[2600/2644], Loss: 5.5223,Perplexity: 250.22\n",
            "the current epoch [9/11], step_num in this epoch[0/2644], Loss: 5.4379,Perplexity: 229.96\n",
            "the current epoch [9/11], step_num in this epoch[200/2644], Loss: 5.8548,Perplexity: 348.91\n",
            "the current epoch [9/11], step_num in this epoch[400/2644], Loss: 5.7484,Perplexity: 313.70\n",
            "the current epoch [9/11], step_num in this epoch[600/2644], Loss: 5.7432,Perplexity: 312.06\n",
            "the current epoch [9/11], step_num in this epoch[800/2644], Loss: 5.7008,Perplexity: 299.12\n",
            "the current epoch [9/11], step_num in this epoch[1000/2644], Loss: 5.5777,Perplexity: 264.46\n",
            "the current epoch [9/11], step_num in this epoch[1200/2644], Loss: 5.6914,Perplexity: 296.31\n",
            "the current epoch [9/11], step_num in this epoch[1400/2644], Loss: 5.6914,Perplexity: 296.32\n",
            "the current epoch [9/11], step_num in this epoch[1600/2644], Loss: 5.7597,Perplexity: 317.26\n",
            "the current epoch [9/11], step_num in this epoch[1800/2644], Loss: 5.3661,Perplexity: 214.03\n",
            "the current epoch [9/11], step_num in this epoch[2000/2644], Loss: 5.6618,Perplexity: 287.67\n",
            "the current epoch [9/11], step_num in this epoch[2200/2644], Loss: 5.7382,Perplexity: 310.52\n",
            "the current epoch [9/11], step_num in this epoch[2400/2644], Loss: 5.5185,Perplexity: 249.26\n",
            "the current epoch [9/11], step_num in this epoch[2600/2644], Loss: 5.4532,Perplexity: 233.51\n",
            "the current epoch [10/11], step_num in this epoch[0/2644], Loss: 5.3911,Perplexity: 219.44\n",
            "the current epoch [10/11], step_num in this epoch[200/2644], Loss: 5.9033,Perplexity: 366.24\n",
            "the current epoch [10/11], step_num in this epoch[400/2644], Loss: 5.8432,Perplexity: 344.88\n",
            "the current epoch [10/11], step_num in this epoch[600/2644], Loss: 5.8649,Perplexity: 352.45\n",
            "the current epoch [10/11], step_num in this epoch[800/2644], Loss: 5.8751,Perplexity: 356.04\n",
            "the current epoch [10/11], step_num in this epoch[1000/2644], Loss: 5.7001,Perplexity: 298.91\n",
            "the current epoch [10/11], step_num in this epoch[1200/2644], Loss: 5.8120,Perplexity: 334.27\n",
            "the current epoch [10/11], step_num in this epoch[1400/2644], Loss: 5.8118,Perplexity: 334.22\n",
            "the current epoch [10/11], step_num in this epoch[1600/2644], Loss: 5.8880,Perplexity: 360.68\n",
            "the current epoch [10/11], step_num in this epoch[1800/2644], Loss: 5.6194,Perplexity: 275.72\n",
            "the current epoch [10/11], step_num in this epoch[2000/2644], Loss: 5.7424,Perplexity: 311.82\n",
            "the current epoch [10/11], step_num in this epoch[2200/2644], Loss: 5.8648,Perplexity: 352.40\n",
            "the current epoch [10/11], step_num in this epoch[2400/2644], Loss: 5.6288,Perplexity: 278.33\n",
            "the current epoch [10/11], step_num in this epoch[2600/2644], Loss: 5.5836,Perplexity: 266.02\n",
            "the current epoch [11/11], step_num in this epoch[0/2644], Loss: 5.2619,Perplexity: 192.85\n",
            "the current epoch [11/11], step_num in this epoch[200/2644], Loss: 5.7666,Perplexity: 319.46\n",
            "the current epoch [11/11], step_num in this epoch[400/2644], Loss: 5.7407,Perplexity: 311.28\n",
            "the current epoch [11/11], step_num in this epoch[600/2644], Loss: 5.7158,Perplexity: 303.62\n",
            "the current epoch [11/11], step_num in this epoch[800/2644], Loss: 5.6996,Perplexity: 298.73\n",
            "the current epoch [11/11], step_num in this epoch[1000/2644], Loss: 5.5336,Perplexity: 253.04\n",
            "the current epoch [11/11], step_num in this epoch[1200/2644], Loss: 5.6690,Perplexity: 289.76\n",
            "the current epoch [11/11], step_num in this epoch[1400/2644], Loss: 5.6898,Perplexity: 295.84\n",
            "the current epoch [11/11], step_num in this epoch[1600/2644], Loss: 5.7817,Perplexity: 324.30\n",
            "the current epoch [11/11], step_num in this epoch[1800/2644], Loss: 5.4567,Perplexity: 234.33\n",
            "the current epoch [11/11], step_num in this epoch[2000/2644], Loss: 5.6621,Perplexity: 287.75\n",
            "the current epoch [11/11], step_num in this epoch[2200/2644], Loss: 5.7861,Perplexity: 325.75\n",
            "the current epoch [11/11], step_num in this epoch[2400/2644], Loss: 5.5709,Perplexity: 262.67\n",
            "the current epoch [11/11], step_num in this epoch[2600/2644], Loss: 5.5403,Perplexity: 254.76\n"
          ],
          "name": "stdout"
        }
      ]
    },
    {
      "cell_type": "code",
      "metadata": {
        "colab_type": "code",
        "id": "Mp0mU-kANTvu",
        "colab": {}
      },
      "source": [
        "torch.save({\"model_state_dict\" : train_model.state_dict(),\n",
        "            \"optimizer_state_dict\" : optimizer.state_dict()},\n",
        "            'lstm_epoc_save.ckpt')\n"
      ],
      "execution_count": 0,
      "outputs": []
    },
    {
      "cell_type": "code",
      "metadata": {
        "colab_type": "code",
        "id": "0FeLiWQUNhrI",
        "outputId": "2507c39f-f2bb-4702-ae6a-68ee0626a9fa",
        "colab": {
          "base_uri": "https://localhost:8080/",
          "height": 84
        }
      },
      "source": [
        "lstm_test_model = Lstm(batch_size,vocab_size, embed_size, hidden_size, num_layers).to(device)\n",
        "lstm_test_model.load_state_dict(checkpoint[\"model_state_dict\"])\n",
        "optimizer.load_state_dict(checkpoint[\"optimizer_state_dict\"])\n",
        "print(lstm_test_model)"
      ],
      "execution_count": 0,
      "outputs": [
        {
          "output_type": "stream",
          "text": [
            "Lstm(\n",
            "  (embed): Embedding(119598, 128)\n",
            "  (linear): Linear(in_features=1024, out_features=119598, bias=True)\n",
            ")\n"
          ],
          "name": "stdout"
        }
      ]
    },
    {
      "cell_type": "code",
      "metadata": {
        "colab_type": "code",
        "id": "BMaqT_e2MSiM",
        "outputId": "f15fa9cc-1749-4980-f2d5-4ac7fa9fd7ff",
        "colab": {
          "base_uri": "https://localhost:8080/",
          "height": 184
        }
      },
      "source": [
        "with torch.no_grad():\n",
        "    num_samples = 1000\n",
        "    with open('sample_0608.txt', 'w') as f:\n",
        "         # initialize\n",
        "        (h,c) = (torch.zeros(num_layers, 1, hidden_size).to(device),\n",
        "                 torch.zeros(num_layers, 1, hidden_size).to(device))\n",
        "\n",
        "        # Randomly select a word as input\n",
        "        prob = torch.ones(vocab_size)\n",
        "        input = torch.multinomial(prob, num_samples=1).unsqueeze(1).to(device)\n",
        "\n",
        "        for i in range(num_samples):\n",
        "            output, (h,c)  = lstm_test_model(input, h,c) \n",
        "            # predictions\n",
        "            prob = output.exp()\n",
        "            word_id = torch.multinomial(prob, num_samples=1).item()\n",
        "\n",
        "            # Fill in preditions(input data for the next prediticon)\n",
        "            input.fill_(word_id)\n",
        "\n",
        "            # write the predictions \n",
        "            word = corpus.dictionary.idx2word[word_id]\n",
        "            word = '\\n' if word == '<eos>' else word + ' '\n",
        "            f.write(word)\n",
        "\n",
        "            if (i+1) % 100 == 0:\n",
        "                print('生成了 [{}/{}] 个词，存储到 {}'.format(i+1, num_samples, 'sample_0608.txt'))\n",
        "                \n"
      ],
      "execution_count": 0,
      "outputs": [
        {
          "output_type": "stream",
          "text": [
            "生成了 [100/1000] 个词，存储到 sample_0608.txt\n",
            "生成了 [200/1000] 个词，存储到 sample_0608.txt\n",
            "生成了 [300/1000] 个词，存储到 sample_0608.txt\n",
            "生成了 [400/1000] 个词，存储到 sample_0608.txt\n",
            "生成了 [500/1000] 个词，存储到 sample_0608.txt\n",
            "生成了 [600/1000] 个词，存储到 sample_0608.txt\n",
            "生成了 [700/1000] 个词，存储到 sample_0608.txt\n",
            "生成了 [800/1000] 个词，存储到 sample_0608.txt\n",
            "生成了 [900/1000] 个词，存储到 sample_0608.txt\n",
            "生成了 [1000/1000] 个词，存储到 sample_0608.txt\n"
          ],
          "name": "stdout"
        }
      ]
    },
    {
      "cell_type": "code",
      "metadata": {
        "colab_type": "code",
        "id": "P_CxDg98G6O0",
        "colab": {}
      },
      "source": [
        ""
      ],
      "execution_count": 0,
      "outputs": []
    },
    {
      "cell_type": "markdown",
      "metadata": {
        "colab_type": "text",
        "id": "geKgX-6Thxnl"
      },
      "source": [
        "writer: @ hebaodan"
      ]
    }
  ]
}